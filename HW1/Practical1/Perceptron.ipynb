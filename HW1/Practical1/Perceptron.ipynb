{
  "cells": [
    {
      "cell_type": "markdown",
      "metadata": {
        "id": "y09iFsmx2Vcw"
      },
      "source": [
        "<img src='./pic/sharif-main-logo.png' alt=\"SUT logo\" width=300 height=300 align=left class=\"saturate\" > <br>\n",
        "\n",
        "<div dir=ltr align=center>\n",
        "<font color=0F5298 size=7>\n",
        "    یادگیری ماشین <br>\n",
        "<font color=2565AE size=5>\n",
        "    دانشکده مهندسی کامپیوتر <br>\n",
        "    پاییز ۱۴۰۳ <br>\n",
        "<font color=3C99D size=5>\n",
        "   تمرین عملی اول - یادگیری نظارت شده <br>\n",
        "<font color=696880 size=4>\n",
        "    عرفان سلیما - سارینا حشمتی - نیکان واسعی - فاطمه شیری"
      ]
    },
    {
      "cell_type": "markdown",
      "metadata": {
        "id": "ygMkWyTCMLN5"
      },
      "source": [
        "<div dir=rtl>\n",
        "<font size=6>\n",
        "اطلاعات دانشجو"
      ]
    },
    {
      "cell_type": "code",
      "execution_count": 47,
      "metadata": {
        "id": "NA70h02IMLN5"
      },
      "outputs": [],
      "source": [
        "student_number = '401109477'\n",
        "Name = 'Sadegh'\n",
        "Last_Name = 'Mohammadian'"
      ]
    },
    {
      "cell_type": "markdown",
      "metadata": {
        "id": "HCw4p2kqMLN6"
      },
      "source": [
        "<div dir=rtl>\n",
        "<font size=6>\n",
        "نحوه پیاده سازی"
      ]
    },
    {
      "cell_type": "markdown",
      "metadata": {
        "id": "lCUAtWN522T4"
      },
      "source": [
        "<div dir=rtl>\n",
        "<font size=4>\n",
        " با استفاده از تابع make_blobs از کتابخانه sklearn به کمک قطعه کد\n",
        "زیر، مجموعه داده ای بسازید که به صورت خطی\n",
        "جدایی پذیر باشد. هر ستون از ماتریس X شامل ویژگی های یک نمونه داده است."
      ]
    },
    {
      "cell_type": "code",
      "execution_count": 54,
      "metadata": {
        "id": "sbBYk18H2TVg"
      },
      "outputs": [],
      "source": [
        "from sklearn.datasets import make_blobs\n",
        "X, Y = make_blobs(n_samples=100, n_features=10, centers=2, random_state=41)\n"
      ]
    },
    {
      "cell_type": "markdown",
      "metadata": {
        "id": "SFi-rRwJ3E3-"
      },
      "source": [
        "<div dir=rtl>\n",
        "<font size=4>\n",
        " ابتدا کلاسی به نام F در نظر بگیرید و یکی از متد های آن را به نام sign پیاده سازی کنید. متدهای این کلاس متعلق به کلاس\n",
        "هستند و باید به صورت static تعریف شوند. در حقیقت این کلاس مسئول نگهداری توابع کاربردی برای انجام محاسبات\n",
        "است که در اینجا ما فقط میخواهیم sign را تعریف کنیم."
      ]
    },
    {
      "cell_type": "code",
      "execution_count": 55,
      "metadata": {
        "id": "ta3SQGNJ3OeO"
      },
      "outputs": [],
      "source": [
        "class F:\n",
        "  @staticmethod\n",
        "  def sign(x):\n",
        "    if(x > 0):\n",
        "      return 1\n",
        "    else:\n",
        "      return 0"
      ]
    },
    {
      "cell_type": "markdown",
      "metadata": {
        "id": "prCJVzUh3Wd5"
      },
      "source": [
        "<div dir=rtl>\n",
        "<font size=4>\n",
        " کلاس Perceptron را مانند تکه کد زیر در نظر بگیرید. این موجودیت تنها وظیفه نگهداری وزن های پرسپترون ما و محاسبه\n",
        "y براساس ورودی ما یعنی X را دارد. برای مقدار دهی اولیه وزن ها و بایاس میتوانید از کتابخانه numpy استفاده کنید."
      ]
    },
    {
      "cell_type": "code",
      "execution_count": 53,
      "metadata": {
        "id": "FRApiOaV3khr"
      },
      "outputs": [],
      "source": [
        "import numpy as np\n",
        "class Perceptron:\n",
        "    def __init__(self, input_size):\n",
        "        self.weights = np.random.randn(input_size)\n",
        "        self.bias = 0\n",
        "\n",
        "    def forward(self, input):\n",
        "        output = np.dot(input, self.weights) + self.bias\n",
        "        return F.sign(output)"
      ]
    },
    {
      "cell_type": "markdown",
      "metadata": {
        "id": "WF8lQoZA3pgt"
      },
      "source": [
        "<div dir=rtl>\n",
        "<font size=4>\n",
        "حال کلاس Optimizer را مطابق قطعه کد زیر پیاده سازی کنید. این کلاس وظیفه این را دارد که مدل ما را بهینه کند. بدین\n",
        "معنی که در هر مرحله از یادگیری سعی کند وزن ها را در جهتی بروزرسانی کند که در نهایت ما هیچ خطایی نداشته باشیم (با\n",
        "فرض خطی جدایی پذیر بودن داده ها)"
      ]
    },
    {
      "cell_type": "code",
      "execution_count": 56,
      "metadata": {
        "id": "ksQEHkz54HeO"
      },
      "outputs": [],
      "source": [
        "class Optimizer:\n",
        "    def __init__(self, model, learning_rate=0.001):\n",
        "        self.model = model\n",
        "        self.learning_rate = learning_rate\n",
        "\n",
        "    def update(self, x, y, y_hat):\n",
        "          error = y - y_hat\n",
        "          self.model.weights += self.learning_rate * x * error\n",
        "          self.model.bias += self.learning_rate * error\n"
      ]
    },
    {
      "cell_type": "markdown",
      "metadata": {
        "id": "lHKc8Rpc4KT2"
      },
      "source": [
        "<div dir=rtl>\n",
        "<font size=4>\n",
        "با توجه به تعداد ویژگی های داده های موجود، یک شی Perceptron بسازید (این پارامتر باید با تعداد ویژگی های قسمت\n",
        "اول یکسان باشد) در مرحله بعدی به Optimizer اجازه دهید تا به مدل شما دسترسی داشته باشد تا بتواند آن را بهینه کند."
      ]
    },
    {
      "cell_type": "markdown",
      "metadata": {
        "id": "FAwckbDH4TIa"
      },
      "source": [
        "<div dir=rtl>\n",
        "<font size=4>\n",
        "در این قسمت شما باید با پیاده سازی فرآیندی مناسب با استفاده از instance های Optimizer و Perceptron وضعیت\n",
        "مدل را بهبود بدهید تا به ابر صفحه جدا کننده نزدیک تر شود."
      ]
    },
    {
      "cell_type": "code",
      "execution_count": 57,
      "metadata": {
        "id": "vlvPXwMm4QTI"
      },
      "outputs": [],
      "source": [
        "n_iter = 10000\n",
        "\n",
        "input_size = X.shape[1]\n",
        "perceptron = Perceptron(input_size)\n",
        "optimizer = Optimizer(perceptron)\n",
        "\n",
        "for i in range(n_iter):\n",
        "    for x, y_true in zip(X, Y):\n",
        "        y_hat = perceptron.forward(x)\n",
        "        optimizer.update(x, y_true, y_hat)\n"
      ]
    },
    {
      "cell_type": "markdown",
      "metadata": {
        "id": "bg5D9ooD4c-_"
      },
      "source": [
        "<div dir=rtl>\n",
        "<font size=4>\n",
        "به ازای n_features برابر ۲ نقاط مجموعه داده ی خود و خط حاصل از Perceptron خود را به کمک کتابخانه Ⅿatpⅼotⅼib\n",
        "در فضای ۲ بعدی نمایش دهید."
      ]
    },
    {
      "cell_type": "code",
      "execution_count": 93,
      "metadata": {
        "colab": {
          "base_uri": "https://localhost:8080/",
          "height": 472
        },
        "id": "_yV9MTF6MLN8",
        "outputId": "b275c3ff-fc29-4e97-b405-0a98155cabe4"
      },
      "outputs": [
        {
          "output_type": "display_data",
          "data": {
            "text/plain": [
              "<Figure size 640x480 with 1 Axes>"
            ],
            "image/png": "[encoded data removed]"
          },
          "metadata": {}
        }
      ],
      "source": [
        "import matplotlib.pyplot as plt\n",
        "\n",
        "X_2D, Y_2D = make_blobs(n_samples=100, n_features=2, centers=2, random_state=41)\n",
        "input_size = X_2D.shape[1]\n",
        "\n",
        "model = Perceptron(input_size)\n",
        "optimizer = Optimizer(model)\n",
        "\n",
        "for i in range(n_iter):\n",
        "  for x, y in zip(X_2D, Y_2D):\n",
        "    y_hat = model.forward(x)\n",
        "    optimizer.update(x, y, y_hat)\n",
        "\n",
        "\n",
        "plt.scatter(X_2D[Y_2D == 0][:,0],X_2D[Y_2D == 0][:,1], color = 'red',label = 'class 0')\n",
        "plt.scatter(X_2D[Y_2D == 1][:,0],X_2D[Y_2D == 1][:,1], color = 'blue',label = 'class 1')\n",
        "\n",
        "x1_values = np.linspace(X_2D[:, 0].min() - 1, X_2D[:, 0].max() + 1, 40)\n",
        "x2_values = -(model.weights[0] * x1_values + model.bias ) / model.weights[1]\n",
        "\n",
        "plt.plot(x1_values, x2_values, label='Decision Boundary', color='black')\n",
        "plt.xlabel('Feature 1')\n",
        "plt.ylabel('Feature 2')\n",
        "plt.title('Perceptron')\n",
        "plt.legend()\n",
        "\n",
        "plt.show()"
      ]
    }
  ],
  "metadata": {
    "colab": {
      "provenance": []
    },
    "kernelspec": {
      "display_name": "Python 3",
      "name": "python3"
    },
    "language_info": {
      "codemirror_mode": {
        "name": "ipython",
        "version": 3
      },
      "file_extension": ".py",
      "mimetype": "text/x-python",
      "name": "python",
      "nbconvert_exporter": "python",
      "pygments_lexer": "ipython3",
      "version": "3.11.3"
    }
  },
  "nbformat": 4,
  "nbformat_minor": 0
}