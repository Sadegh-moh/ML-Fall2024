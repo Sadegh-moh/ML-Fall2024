{
  "cells": [
    {
      "cell_type": "markdown",
      "metadata": {
        "id": "havFsrqzlXPy"
      },
      "source": [
        "# Optimization Techniques on MNIST Dataset\n",
        "This notebook explores various optimization techniques for training neural networks on the MNIST dataset. The focus will be on different optimization strategies including Adaptive Learning Rates, SGD, Mini-Batch Gradient Descent, and Learning Rate Adjustments. Each section will provide a practical task related to these techniques."
      ]
    },
    {
      "cell_type": "code",
      "execution_count": 2,
      "metadata": {
        "id": "ywjE9LpmlXP1",
        "colab": {
          "base_uri": "https://localhost:8080/"
        },
        "outputId": "b54c8935-05fa-4d4a-a847-dea41fd821df"
      },
      "outputs": [
        {
          "output_type": "stream",
          "name": "stdout",
          "text": [
            "Downloading data from https://storage.googleapis.com/tensorflow/tf-keras-datasets/train-labels-idx1-ubyte.gz\n",
            "\u001b[1m29515/29515\u001b[0m \u001b[32m━━━━━━━━━━━━━━━━━━━━\u001b[0m\u001b[37m\u001b[0m \u001b[1m0s\u001b[0m 0us/step\n",
            "Downloading data from https://storage.googleapis.com/tensorflow/tf-keras-datasets/train-images-idx3-ubyte.gz\n",
            "\u001b[1m26421880/26421880\u001b[0m \u001b[32m━━━━━━━━━━━━━━━━━━━━\u001b[0m\u001b[37m\u001b[0m \u001b[1m0s\u001b[0m 0us/step\n",
            "Downloading data from https://storage.googleapis.com/tensorflow/tf-keras-datasets/t10k-labels-idx1-ubyte.gz\n",
            "\u001b[1m5148/5148\u001b[0m \u001b[32m━━━━━━━━━━━━━━━━━━━━\u001b[0m\u001b[37m\u001b[0m \u001b[1m0s\u001b[0m 1us/step\n",
            "Downloading data from https://storage.googleapis.com/tensorflow/tf-keras-datasets/t10k-images-idx3-ubyte.gz\n",
            "\u001b[1m4422102/4422102\u001b[0m \u001b[32m━━━━━━━━━━━━━━━━━━━━\u001b[0m\u001b[37m\u001b[0m \u001b[1m0s\u001b[0m 0us/step\n"
          ]
        }
      ],
      "source": [
        "import tensorflow as tf\n",
        "import numpy as np\n",
        "import matplotlib.pyplot as plt\n",
        "\n",
        "# Load Fashion MNIST dataset\n",
        "(x_train, y_train), (x_test, y_test) = tf.keras.datasets.fashion_mnist.load_data()\n",
        "\n",
        "# Normalize data\n",
        "x_train, x_test = x_train / 255.0, x_test / 255.0\n",
        "\n",
        "# One-hot encode labels\n",
        "y_train = tf.keras.utils.to_categorical(y_train, 10)\n",
        "y_test = tf.keras.utils.to_categorical(y_test, 10)"
      ]
    },
    {
      "cell_type": "markdown",
      "metadata": {
        "id": "NfKuA-fjKZ57"
      },
      "source": [
        "## Adaptive Learning Rates"
      ]
    },
    {
      "cell_type": "markdown",
      "metadata": {
        "id": "4rNvoHEDlXP2"
      },
      "source": [
        "## Implementing a Simple Neural Network from Scratch"
      ]
    },
    {
      "cell_type": "markdown",
      "metadata": {
        "id": "8IMMs-s6lXP2"
      },
      "source": [
        "### Building the Network\n",
        "Define the architecture of a simple feedforward neural network with one hidden layer. You will need to manually initialize the weights and biases.\n",
        "\n",
        "**TODO:** Initialize Parameters\n",
        "Objective: Create a function to initialize weights and biases for all layers of the network.\n",
        "Instructions:\n",
        "- Initialize weights with small random values and biases with zeros.\n",
        "- Use numpy for creating arrays and operations.\n",
        "\n",
        "Hint: Use np.random.randn for weights and np.zeros for biases. Scale weights by 0.1."
      ]
    },
    {
      "cell_type": "code",
      "execution_count": 28,
      "metadata": {
        "id": "HEUr0figlXP3"
      },
      "outputs": [],
      "source": [
        "import numpy as np\n",
        "\n",
        "def initialize_parameters(input_size, hidden_size, output_size):\n",
        "    \"\"\"\n",
        "    Initialize weights and biases for a simple feedforward neural network.\n",
        "\n",
        "    Parameters:\n",
        "    - input_size: Number of input features (e.g., 784 for a 28x28 image).\n",
        "    - hidden_size: Number of neurons in the hidden layer.\n",
        "    - output_size: Number of output classes.\n",
        "\n",
        "    Returns:\n",
        "    - parameters: A dictionary containing weights and biases.\n",
        "    \"\"\"\n",
        "    parameters = {\n",
        "        \"W1\": np.random.randn(input_size, hidden_size) * 0.1,\n",
        "        \"b1\": np.random.randn(1, hidden_size) * 0.1,\n",
        "        \"W2\": np.random.randn(hidden_size, output_size) * 0.1,\n",
        "        \"b2\": np.random.randn(1, output_size) * 0.1,\n",
        "    }\n",
        "    return parameters\n"
      ]
    },
    {
      "cell_type": "markdown",
      "metadata": {
        "id": "bDvfRCVq-74-"
      },
      "source": [
        "\n",
        "TODO: Define Activation Functions\n",
        "Objective: Implement commonly used activation functions.\n",
        "Instructions:\n",
        " - Define the ReLU and Sigmoid activation functions.\n",
        " - Ensure each function works with numpy arrays and supports both forward and derivative (gradient) computations.\n"
      ]
    },
    {
      "cell_type": "code",
      "execution_count": 4,
      "metadata": {
        "id": "qIBwOlH6_Jg4"
      },
      "outputs": [],
      "source": [
        "def relu(x):\n",
        "    \"\"\"\n",
        "    ReLU activation function.\n",
        "\n",
        "    Parameters:\n",
        "    - x: Input numpy array.\n",
        "\n",
        "    Returns:\n",
        "    - Output after applying ReLU.\n",
        "    \"\"\"\n",
        "    return np.maximum(0, x)\n",
        "\n",
        "def relu_derivative(x):\n",
        "    \"\"\"\n",
        "    Derivative of ReLU activation function.\n",
        "\n",
        "    Parameters:\n",
        "    - x: Input numpy array.\n",
        "\n",
        "    Returns:\n",
        "    - Derivative of ReLU.\n",
        "    \"\"\"\n",
        "    return np.where(x > 0, 1, 0)\n",
        "\n",
        "def sigmoid(x):\n",
        "    \"\"\"\n",
        "    Sigmoid activation function.\n",
        "\n",
        "    Parameters:\n",
        "    - x: Input numpy array.\n",
        "\n",
        "    Returns:\n",
        "    - Output after applying sigmoid.\n",
        "    \"\"\"\n",
        "    return 1 / (1 + np.exp(-x))\n",
        "\n",
        "def sigmoid_derivative(x):\n",
        "    \"\"\"\n",
        "    Derivative of sigmoid activation function.\n",
        "\n",
        "    Parameters:\n",
        "    - x: Input numpy array.\n",
        "\n",
        "    Returns:\n",
        "    - Derivative of sigmoid.\n",
        "    \"\"\"\n",
        "    sigmoid_output = sigmoid(x)\n",
        "    return sigmoid_output * (1 - sigmoid_output)\n"
      ]
    },
    {
      "cell_type": "markdown",
      "metadata": {
        "id": "h6HxkvToEDjr"
      },
      "source": [
        "TODO: Perform forward propagation through the network.\n",
        "\n",
        "    Parameters:\n",
        "    - X: Input data (shape: number of examples x input size).\n",
        "    - parameters: Dictionary containing weights and biases.\n",
        "\n",
        "    Returns:\n",
        "    - A2: Output of the network (after activation).\n",
        "    - cache: Dictionary containing intermediate values for backpropagation."
      ]
    },
    {
      "cell_type": "code",
      "execution_count": 5,
      "metadata": {
        "id": "4ylVbZoXECpn"
      },
      "outputs": [],
      "source": [
        "def forward_propagation(X, parameters):\n",
        "    \"\"\"\n",
        "    Perform forward propagation through the network.\n",
        "\n",
        "    Parameters:\n",
        "    - X: Input data (shape: number of examples x input size).\n",
        "    - parameters: Dictionary containing weights and biases.\n",
        "\n",
        "    Returns:\n",
        "    - A2: Output of the network (after activation).\n",
        "    - cache: Dictionary containing intermediate values for backpropagation.\n",
        "    \"\"\"\n",
        "    W1, b1 = parameters[\"W1\"], parameters[\"b1\"]\n",
        "    W2, b2 = parameters[\"W2\"], parameters[\"b2\"]\n",
        "\n",
        "    Z1 = np.dot(X, W1) + b1\n",
        "    A1 = relu(Z1)\n",
        "    Z2 = np.dot(A1, W2) + b2\n",
        "    A2 = sigmoid(Z2)\n",
        "\n",
        "    cache = {\"Z1\": Z1, \"A1\": A1, \"Z2\": Z2, \"A2\": A2}\n",
        "    return A2, cache\n"
      ]
    },
    {
      "cell_type": "markdown",
      "metadata": {
        "id": "-KtURRNUC_NP"
      },
      "source": [
        "TODO: Implement the loss function. Compute the categorical cross-entropy loss.\n",
        "\n",
        "    Parameters:\n",
        "    - y_true: True labels (one-hot encoded).\n",
        "    - y_pred: Predicted probabilities (output of the network).\n",
        "\n",
        "    Returns:\n",
        "    - loss: Computed loss."
      ]
    },
    {
      "cell_type": "code",
      "execution_count": 6,
      "metadata": {
        "id": "advoE8kEC-vk"
      },
      "outputs": [],
      "source": [
        "def compute_loss(y_true, y_pred):\n",
        "    \"\"\"\n",
        "    Compute the categorical cross-entropy loss.\n",
        "\n",
        "    Parameters:\n",
        "    - y_true: True labels (one-hot encoded).\n",
        "    - y_pred: Predicted probabilities (output of the network).\n",
        "\n",
        "    Returns:\n",
        "    - loss: Computed loss.\n",
        "    \"\"\"\n",
        "    m = y_true.shape[0]\n",
        "    loss = -np.sum(y_true * np.log(y_pred + 1e-8)) / m\n",
        "    return loss\n"
      ]
    },
    {
      "cell_type": "markdown",
      "metadata": {
        "id": "s5V1D0jUDK3B"
      },
      "source": [
        "TODO: Implement backpropagation for the network and Perform backward propagation through the network.\n",
        "\n",
        "    Parameters:\n",
        "    - X: Input data.\n",
        "    - y_true: True labels.\n",
        "    - parameters: Dictionary containing weights and biases.\n",
        "    - cache: Intermediate values from forward propagation.\n",
        "\n",
        "    Returns:\n",
        "    - gradients: Dictionary containing gradients for weights and biases."
      ]
    },
    {
      "cell_type": "code",
      "execution_count": 7,
      "metadata": {
        "id": "4CxAo9FlBG18"
      },
      "outputs": [],
      "source": [
        "def backward_propagation(X, y_true, parameters, cache):\n",
        "    \"\"\"\n",
        "    Perform backward propagation through the network.\n",
        "\n",
        "    Parameters:\n",
        "    - X: Input data.\n",
        "    - y_true: True labels.\n",
        "    - parameters: Dictionary containing weights and biases.\n",
        "    - cache: Intermediate values from forward propagation.\n",
        "\n",
        "    Returns:\n",
        "    - gradients: Dictionary containing gradients for weights and biases.\n",
        "    \"\"\"\n",
        "    W1, W2 = parameters[\"W1\"], parameters[\"W2\"]\n",
        "    A1, A2 = cache[\"A1\"], cache[\"A2\"]\n",
        "    Z1 = cache[\"Z1\"]\n",
        "\n",
        "    m = X.shape[0]\n",
        "\n",
        "    dZ2 = A2 - y_true\n",
        "    dW2 = np.dot(A1.T, dZ2) / m\n",
        "    db2 = np.sum(dZ2, axis=0, keepdims=True) / m\n",
        "\n",
        "    dA1 = np.dot(dZ2, W2.T)\n",
        "    dZ1 = dA1 * relu_derivative(Z1)\n",
        "    dW1 = np.dot(X.T, dZ1) / m\n",
        "    db1 = np.sum(dZ1, axis=0, keepdims=True) / m\n",
        "\n",
        "    gradients = {\"dW1\": dW1, \"db1\": db1, \"dW2\": dW2, \"db2\": db2}\n",
        "    return gradients\n"
      ]
    },
    {
      "cell_type": "markdown",
      "metadata": {
        "id": "LG2cvi3DDe4Q"
      },
      "source": [
        "TODO: Update the parameters using gradient descent.\n",
        "\n",
        "    Parameters:\n",
        "    - parameters: Current weights and biases.\n",
        "    - gradients: Calculated gradients.\n",
        "    - learning_rate: Learning rate for updates.\n",
        "\n",
        "    Returns:\n",
        "    - parameters: Updated weights and biases."
      ]
    },
    {
      "cell_type": "code",
      "execution_count": 8,
      "metadata": {
        "id": "9uMGXPGqDdk4"
      },
      "outputs": [],
      "source": [
        "def update_parameters(parameters, gradients, learning_rate=0.01):\n",
        "    \"\"\"\n",
        "    Update parameters using gradient descent.\n",
        "\n",
        "    Parameters:\n",
        "    - parameters: Current weights and biases.\n",
        "    - gradients: Calculated gradients.\n",
        "    - learning_rate: Learning rate for updates.\n",
        "\n",
        "    Returns:\n",
        "    - parameters: Updated weights and biases.\n",
        "    \"\"\"\n",
        "    parameters[\"W1\"] -= learning_rate * gradients[\"dW1\"]\n",
        "    parameters[\"b1\"] -= learning_rate * gradients[\"db1\"]\n",
        "    parameters[\"W2\"] -= learning_rate * gradients[\"dW2\"]\n",
        "    parameters[\"b2\"] -= learning_rate * gradients[\"db2\"]\n",
        "    return parameters\n"
      ]
    },
    {
      "cell_type": "markdown",
      "metadata": {
        "id": "5E4UZg1SD2bM"
      },
      "source": [
        "TODO: Train the model by changing the hidden layer size (such as [32, 64, 128]) and observe the impact on network performance during training.\n",
        "\n",
        "    Train the neural network model.\n",
        "\n",
        "    Parameters:\n",
        "    - X_train: Training data.\n",
        "    - y_train: One-hot encoded labels.\n",
        "    - hidden_size: Number of neurons in the hidden layer.\n",
        "    - epochs: Number of training epochs.\n",
        "    - learning_rate: Learning rate for optimization."
      ]
    },
    {
      "cell_type": "code",
      "execution_count": 31,
      "metadata": {
        "colab": {
          "base_uri": "https://localhost:8080/"
        },
        "id": "GlsAvdUCDzSb",
        "outputId": "f7b34ed3-c14f-486a-d567-0ce857d516c8"
      },
      "outputs": [
        {
          "output_type": "stream",
          "name": "stdout",
          "text": [
            "Training with hidden layer size 32\n",
            "Epoch 0, Loss: 0.7164\n",
            "Epoch 10, Loss: 1.0908\n",
            "Epoch 20, Loss: 1.6466\n",
            "Epoch 30, Loss: 1.9161\n",
            "Epoch 40, Loss: 1.9846\n",
            "\n",
            "Training with hidden layer size 64\n",
            "Epoch 0, Loss: 0.6825\n",
            "Epoch 10, Loss: 1.4529\n",
            "Epoch 20, Loss: 1.7946\n",
            "Epoch 30, Loss: 1.8498\n",
            "Epoch 40, Loss: 1.8164\n",
            "\n",
            "Training with hidden layer size 128\n",
            "Epoch 0, Loss: 1.0619\n",
            "Epoch 10, Loss: 1.8785\n",
            "Epoch 20, Loss: 1.8805\n",
            "Epoch 30, Loss: 1.7799\n",
            "Epoch 40, Loss: 1.6737\n",
            "\n"
          ]
        }
      ],
      "source": [
        "def train_model(X_train, y_train, hidden_size, epochs=50, learning_rate=0.01):\n",
        "    \"\"\"\n",
        "    Train the neural network model.\n",
        "\n",
        "    Parameters:\n",
        "    - X_train: Training data.\n",
        "    - y_train: One-hot encoded labels.\n",
        "    - hidden_size: Number of neurons in the hidden layer.\n",
        "    - epochs: Number of training epochs.\n",
        "    - learning_rate: Learning rate for optimization.\n",
        "    \"\"\"\n",
        "    input_size = X_train.shape[1]\n",
        "    output_size = y_train.shape[1]\n",
        "    parameters = initialize_parameters(input_size, hidden_size, output_size)\n",
        "\n",
        "    for epoch in range(epochs):\n",
        "\n",
        "        y_pred, cache = forward_propagation(X_train, parameters)\n",
        "        loss = compute_loss(y_train, y_pred)\n",
        "        gradients = backward_propagation(X_train, y_train, parameters, cache)\n",
        "        parameters = update_parameters(parameters, gradients, learning_rate)\n",
        "\n",
        "        if epoch % 10 == 0:\n",
        "            print(f\"Epoch {epoch}, Loss: {loss:.4f}\")\n",
        "\n",
        "\n",
        "X_train_flatten = x_train.reshape(x_train.shape[0], -1)\n",
        "X_test_flatten = x_test.reshape(x_test.shape[0], -1)\n",
        "\n",
        "print(\"Training with hidden layer size 32\")\n",
        "trained_parameters = train_model(X_train_flatten, y_train, hidden_size=32, epochs=50, learning_rate=0.01)\n",
        "print()\n",
        "\n",
        "print(\"Training with hidden layer size 64\")\n",
        "trained_parameters = train_model(X_train_flatten, y_train, hidden_size=64, epochs=50, learning_rate=0.01)\n",
        "print()\n",
        "\n",
        "print(\"Training with hidden layer size 128\")\n",
        "trained_parameters = train_model(X_train_flatten, y_train, hidden_size=128, epochs=50, learning_rate=0.01)\n",
        "print()"
      ]
    },
    {
      "cell_type": "markdown",
      "metadata": {
        "id": "YuCNlJCHKf1S"
      },
      "source": [
        "TODO: Implement Adam Optimizer\n",
        "\n",
        "1. Initialize Parameters: Create variables to store the moment estimates (first and second) for each parameter.\n",
        "\n",
        "    Parameters:\n",
        "    - parameters: Dictionary containing weights and biases.\n",
        "\n",
        "    Returns:\n",
        "    - v: First moment vector (initialized to zeros).\n",
        "    - s: Second moment vector (initialized to zeros).\n",
        "    - t: Time step (initialized to 0).\n",
        "\n",
        "2. Update Rules: Implement the update rules based on the gradients, learning rate, and moment estimates.\n"
      ]
    },
    {
      "cell_type": "code",
      "execution_count": 34,
      "metadata": {
        "id": "Iqy1_rfsKP8b"
      },
      "outputs": [],
      "source": [
        "def initialize_adam(parameters):\n",
        "    \"\"\"\n",
        "    Initialize the Adam optimizer variables.\n",
        "\n",
        "    Parameters:\n",
        "    - parameters: Dictionary containing weights and biases.\n",
        "\n",
        "    Returns:\n",
        "    - v: Dictionary for first moment vector (initialized to zeros).\n",
        "    - s: Dictionary for second moment vector (initialized to zeros).\n",
        "    - t: Time step (initialized to 0).\n",
        "    \"\"\"\n",
        "    v = {}\n",
        "    s = {}\n",
        "    for key in parameters.keys():\n",
        "        v[key] = np.zeros_like(parameters[key])\n",
        "        s[key] = np.zeros_like(parameters[key])\n",
        "    t = 0\n",
        "    return v, s, t\n",
        "\n",
        "\n",
        "def update_parameters_with_adam(parameters, gradients, v, s, t, learning_rate=0.001, beta1=0.9, beta2=0.999, epsilon=1e-8):\n",
        "    \"\"\"\n",
        "    Update parameters using the Adam optimizer.\n",
        "\n",
        "    Parameters:\n",
        "    - parameters: Current weights and biases.\n",
        "    - gradients: Calculated gradients.\n",
        "    - v: First moment vector.\n",
        "    - s: Second moment vector.\n",
        "    - t: Time step.\n",
        "    - learning_rate: Learning rate for updates.\n",
        "    - beta1: Exponential decay rate for the first moment estimates.\n",
        "    - beta2: Exponential decay rate for the second moment estimates.\n",
        "    - epsilon: Small constant for numerical stability.\n",
        "\n",
        "    Returns:\n",
        "    - parameters: Updated weights and biases.\n",
        "    - v: Updated first moment vector.\n",
        "    - s: Updated second moment vector.\n",
        "    - t: Updated time step.\n",
        "    \"\"\"\n",
        "    t += 1\n",
        "    updated_parameters = {}\n",
        "\n",
        "    for key in parameters.keys():\n",
        "        v[key] = beta1 * v[key] + (1 - beta1) * gradients[f\"d{key}\"]\n",
        "        s[key] = beta2 * s[key] + (1 - beta2) * np.square(gradients[f\"d{key}\"])\n",
        "\n",
        "        v_corrected = v[key] / (1 - beta1 ** t)\n",
        "        s_corrected = s[key] / (1 - beta2 ** t)\n",
        "\n",
        "        updated_parameters[key] = parameters[key] - learning_rate * (v_corrected / (np.sqrt(s_corrected) + epsilon))\n",
        "\n",
        "    return updated_parameters, v, s, t\n",
        "\n"
      ]
    },
    {
      "cell_type": "markdown",
      "metadata": {
        "id": "-mU6NQXdLQd_"
      },
      "source": [
        "TODO: Implement Adam optimizer into the training loop."
      ]
    },
    {
      "cell_type": "code",
      "execution_count": 35,
      "metadata": {
        "id": "NMPqxphzKSv8",
        "colab": {
          "base_uri": "https://localhost:8080/"
        },
        "outputId": "e883f283-6282-47e5-cffb-ba2ef7fcbdbf"
      },
      "outputs": [
        {
          "output_type": "stream",
          "name": "stdout",
          "text": [
            "Training with hidden layer size 32\n",
            "Epoch 0, Loss: 0.8157\n",
            "Epoch 10, Loss: 1.0212\n",
            "Epoch 20, Loss: 0.9545\n",
            "Epoch 30, Loss: 0.8432\n",
            "Epoch 40, Loss: 0.7024\n",
            "\n",
            "Training with hidden layer size 64\n",
            "Epoch 0, Loss: 0.7461\n",
            "Epoch 10, Loss: 1.0887\n",
            "Epoch 20, Loss: 0.8123\n",
            "Epoch 30, Loss: 0.6365\n",
            "Epoch 40, Loss: 0.5911\n",
            "\n",
            "Training with hidden layer size 128\n",
            "Epoch 0, Loss: 0.7429\n",
            "Epoch 10, Loss: 0.9839\n",
            "Epoch 20, Loss: 0.6620\n",
            "Epoch 30, Loss: 0.6224\n",
            "Epoch 40, Loss: 0.5577\n",
            "\n"
          ]
        }
      ],
      "source": [
        "def train_model_with_adam(X_train, y_train, hidden_size, epochs=50, learning_rate=0.001):\n",
        "    \"\"\"\n",
        "    Train the neural network model using Adam optimizer.\n",
        "\n",
        "    Parameters:\n",
        "    - X_train: Training data (shape: number of examples x input size).\n",
        "    - y_train: One-hot encoded labels (shape: number of examples x output size).\n",
        "    - hidden_size: Number of neurons in the hidden layer.\n",
        "    - epochs: Number of training epochs.\n",
        "    - learning_rate: Learning rate for optimization.\n",
        "\"\"\"\n",
        "    input_size = X_train.shape[1]\n",
        "    output_size = y_train.shape[1]\n",
        "\n",
        "    parameters = initialize_parameters(input_size, hidden_size, output_size)\n",
        "    v, s, t = initialize_adam(parameters)\n",
        "\n",
        "    loss_history = []\n",
        "\n",
        "    for epoch in range(epochs):\n",
        "        A2, cache = forward_propagation(X_train, parameters)\n",
        "        loss = compute_loss(y_train, A2)\n",
        "        loss_history.append(loss)\n",
        "        gradients = backward_propagation(X_train, y_train, parameters, cache)\n",
        "        parameters, v, s, t = update_parameters_with_adam(parameters, gradients, v, s, t, learning_rate)\n",
        "\n",
        "        if epoch % 10 == 0:\n",
        "            print(f\"Epoch {epoch}, Loss: {loss:.4f}\")\n",
        "\n",
        "X_train_flatten = x_train.reshape(x_train.shape[0], -1)\n",
        "X_test_flatten = x_test.reshape(x_test.shape[0], -1)\n",
        "\n",
        "print(\"Training with hidden layer size 32\")\n",
        "trained_parameters = train_model_with_adam(X_train_flatten, y_train, hidden_size=32, epochs=50, learning_rate=0.01)\n",
        "print()\n",
        "\n",
        "print(\"Training with hidden layer size 64\")\n",
        "trained_parameters = train_model_with_adam(X_train_flatten, y_train, hidden_size=64, epochs=50, learning_rate=0.01)\n",
        "print()\n",
        "\n",
        "print(\"Training with hidden layer size 128\")\n",
        "trained_parameters = train_model_with_adam(X_train_flatten, y_train, hidden_size=128, epochs=50, learning_rate=0.01)\n",
        "print()\n"
      ]
    },
    {
      "cell_type": "markdown",
      "metadata": {
        "id": "fEZVkGGplXP4"
      },
      "source": [
        "### Compare Adam and RMSprop\n"
      ]
    },
    {
      "cell_type": "markdown",
      "metadata": {
        "id": "7BxQoqf8ak2k"
      },
      "source": [
        "TODO: First, implement the RMSprop optimizer. The RMSprop optimizer uses a moving average of squared gradients to normalize the gradient, which helps to stabilize the updates."
      ]
    },
    {
      "cell_type": "code",
      "execution_count": 36,
      "metadata": {
        "id": "117xMpE6avQ2"
      },
      "outputs": [],
      "source": [
        "def initialize_rmsprop(parameters):\n",
        "    \"\"\"\n",
        "    Initialize the RMSprop variables.\n",
        "\n",
        "    Parameters:\n",
        "    - parameters: Dictionary containing weights and biases.\n",
        "\n",
        "    Returns:\n",
        "    - s: Dictionary for second moment vector (initialized to zeros).\n",
        "    \"\"\"\n",
        "    s = {}\n",
        "    for key in parameters.keys():\n",
        "        s[key] = np.zeros_like(parameters[key])\n",
        "    return s\n",
        "\n",
        "def update_parameters_with_rmsprop(parameters, gradients, s, learning_rate=0.001, beta=0.9, epsilon=1e-8):\n",
        "    \"\"\"\n",
        "    Update parameters using the RMSprop optimizer.\n",
        "\n",
        "    Parameters:\n",
        "    - parameters: Current weights and biases.\n",
        "    - gradients: Calculated gradients.\n",
        "    - s: Second moment vector.\n",
        "    - learning_rate: Learning rate for updates.\n",
        "    - beta: Exponential decay rate for the second moment estimates.\n",
        "    - epsilon: Small constant for numerical stability.\n",
        "\n",
        "    Returns:\n",
        "    - parameters: Updated weights and biases.\n",
        "    - s: Updated second moment vector.\n",
        "    \"\"\"\n",
        "    updated_parameters = {}\n",
        "    for key in parameters.keys():\n",
        "        s[key] = beta * s[key] + (1 - beta) * np.square(gradients[f\"d{key}\"])\n",
        "        updated_parameters[key] = parameters[key] - learning_rate * (gradients[f\"d{key}\"] / (np.sqrt(s[key]) + epsilon))\n",
        "\n",
        "    return updated_parameters, s\n",
        "\n"
      ]
    },
    {
      "cell_type": "markdown",
      "metadata": {
        "id": "GWJg1GjFayY2"
      },
      "source": [
        "TODO: Modify the training loop to allow for both optimizers and store the loss history for comparison."
      ]
    },
    {
      "cell_type": "code",
      "execution_count": 37,
      "metadata": {
        "id": "iwcuRTkja5pT"
      },
      "outputs": [],
      "source": [
        "def train_model(X_train, y_train, hidden_size, epochs=50, learning_rate=0.001, optimizer='adam'):\n",
        "    \"\"\"\n",
        "    Train the neural network model using specified optimizer.\n",
        "\n",
        "    Parameters:\n",
        "    - X_train: Training data (shape: number of examples x input size).\n",
        "    - y_train: One-hot encoded labels (shape: number of examples x output size).\n",
        "    - hidden_size: Number of neurons in the hidden layer.\n",
        "    - epochs: Number of training epochs.\n",
        "    - learning_rate: Learning rate for optimization.\n",
        "    - optimizer: The optimizer to use ('adam' or 'rmsprop').\n",
        "\n",
        "    Returns:\n",
        "    - loss_history: List of loss values over epochs.\n",
        "    \"\"\"\n",
        "    input_size = X_train.shape[1]\n",
        "    output_size = y_train.shape[1]\n",
        "\n",
        "    parameters = initialize_parameters(input_size, hidden_size, output_size)\n",
        "    loss_history = []\n",
        "\n",
        "    if optimizer == 'adam':\n",
        "        v, s, t = initialize_adam(parameters)\n",
        "    elif optimizer == 'rmsprop':\n",
        "        s = initialize_rmsprop(parameters)\n",
        "\n",
        "    for epoch in range(epochs):\n",
        "        A2, cache = forward_propagation(X_train, parameters)\n",
        "        loss = compute_loss(y_train, A2)\n",
        "        loss_history.append(loss)\n",
        "\n",
        "        gradients = backward_propagation(X_train, y_train, parameters, cache)\n",
        "\n",
        "        if optimizer == 'adam':\n",
        "            parameters, v, s, t = update_parameters_with_adam(parameters, gradients, v, s, t, learning_rate)\n",
        "        elif optimizer == 'rmsprop':\n",
        "            parameters, s = update_parameters_with_rmsprop(parameters, gradients, s, learning_rate)\n",
        "\n",
        "        if epoch % 10 == 0:\n",
        "            print(f\"Epoch {epoch}, Loss:({optimizer}) {loss:.4f}\")\n",
        "\n",
        "    return loss_history\n"
      ]
    },
    {
      "cell_type": "markdown",
      "metadata": {
        "id": "g5cPzN1ma9Xi"
      },
      "source": [
        "TODO:  Compare Both Optimizers. Create a function to train the model using both optimizers and plot the loss histories for comparison."
      ]
    },
    {
      "cell_type": "code",
      "execution_count": 43,
      "metadata": {
        "id": "-z5eRURgbDIG",
        "colab": {
          "base_uri": "https://localhost:8080/",
          "height": 800
        },
        "outputId": "fe2ee65e-bde6-499f-cb95-9162a27d6d76"
      },
      "outputs": [
        {
          "output_type": "stream",
          "name": "stdout",
          "text": [
            "Training with Adam optimizer...\n",
            "Epoch 0, Loss:(adam) 0.8403\n",
            "Epoch 10, Loss:(adam) 2.0319\n",
            "Epoch 20, Loss:(adam) 2.0266\n",
            "Epoch 30, Loss:(adam) 1.3189\n",
            "Epoch 40, Loss:(adam) 1.0688\n",
            "\n",
            "Training with RMSprop optimizer...\n",
            "Epoch 0, Loss:(rmsprop) 0.6499\n",
            "Epoch 10, Loss:(rmsprop) 1.4817\n",
            "Epoch 20, Loss:(rmsprop) 1.1485\n",
            "Epoch 30, Loss:(rmsprop) 0.9711\n",
            "Epoch 40, Loss:(rmsprop) 0.8461\n"
          ]
        },
        {
          "output_type": "display_data",
          "data": {
            "text/plain": [
              "<Figure size 1000x600 with 1 Axes>"
            ],
            "image/png": "[encoded data removed]"
          },
          "metadata": {}
        }
      ],
      "source": [
        "def compare_optimizers(X_train, y_train, hidden_size, epochs=50):\n",
        "    \"\"\"\n",
        "    Compare the Adam and RMSprop optimizers by training the model with both and plotting the loss histories.\n",
        "\n",
        "    Parameters:\n",
        "    - X_train: Training data (shape: number of examples x input size).\n",
        "    - y_train: One-hot encoded labels (shape: number of examples x output size).\n",
        "    - hidden_size: Number of neurons in the hidden layer.\n",
        "    - epochs: Number of training epochs.\n",
        "    \"\"\"\n",
        "    print(\"Training with Adam optimizer...\")\n",
        "    adam_loss_history = train_model(X_train, y_train, hidden_size, epochs, optimizer='adam')\n",
        "\n",
        "    print(\"\\nTraining with RMSprop optimizer...\")\n",
        "    rmsprop_loss_history = train_model(X_train, y_train, hidden_size, epochs, optimizer='rmsprop')\n",
        "\n",
        "    plt.figure(figsize=(10, 6))\n",
        "    plt.plot(range(epochs), adam_loss_history, label=\"Adam Loss\")\n",
        "    plt.plot(range(epochs), rmsprop_loss_history, label=\"RMSprop Loss\")\n",
        "    plt.xlabel(\"Epochs\")\n",
        "    plt.ylabel(\"Loss\")\n",
        "    plt.title(\"Loss Comparison between Adam and RMSprop\")\n",
        "    plt.legend()\n",
        "    plt.grid()\n",
        "    plt.show()\n",
        "\n",
        "\n",
        "x_train_flatten = x_train.reshape(x_train.shape[0], -1)\n",
        "\n",
        "compare_optimizers(x_train_flatten, y_train, 64)\n"
      ]
    },
    {
      "cell_type": "markdown",
      "metadata": {
        "id": "pueHFmTUlXP5"
      },
      "source": [
        "## Stochastic Gradient Descent (SGD)"
      ]
    },
    {
      "cell_type": "markdown",
      "metadata": {
        "id": "3zrSW4LilXP5"
      },
      "source": [
        "### Impact of Different Learning Rates on SGD\n"
      ]
    },
    {
      "cell_type": "markdown",
      "metadata": {
        "id": "BU9BiBsKcWjb"
      },
      "source": [
        "Explore the impact of different learning rates on the training dynamics and performance of Stochastic Gradient Descent (SGD). This will allow us to observe how the learning rate affects convergence speed, stability, and final performance.\n",
        "\n",
        "Steps for Implementing the Experiment\n",
        "\n",
        "1. Define the SGD Optimizer: Implement a simple SGD optimizer.\n",
        "2. Modify the Training Loop: Allow for different learning rates.\n",
        "3. Train the Model: Run the training process with a set of predefined learning rates.\n",
        "4. Visualize the Results: Plot the loss curves for each learning rate to compare their effects"
      ]
    },
    {
      "cell_type": "markdown",
      "metadata": {
        "id": "vDRSuNVrcvVI"
      },
      "source": [
        "1. Implement SGD Optimizer\n"
      ]
    },
    {
      "cell_type": "code",
      "execution_count": 44,
      "metadata": {
        "id": "r9UE2OHfcwCe"
      },
      "outputs": [],
      "source": [
        "def update_parameters_with_sgd(parameters, gradients, learning_rate=0.01):\n",
        "    \"\"\"\n",
        "    Update parameters using Stochastic Gradient Descent (SGD).\n",
        "\n",
        "    Parameters:\n",
        "    - parameters: Dictionary containing weights and biases.\n",
        "    - gradients: Calculated gradients for weights and biases.\n",
        "    - learning_rate: Learning rate for updates.\n",
        "\n",
        "    Returns:\n",
        "    - parameters: Updated weights and biases.\n",
        "    \"\"\"\n",
        "    for key in parameters.keys():\n",
        "        parameters[key] -= learning_rate * gradients[f\"d{key}\"]\n",
        "    return parameters\n"
      ]
    },
    {
      "cell_type": "markdown",
      "metadata": {
        "id": "O4qIjyg9cyXB"
      },
      "source": [
        "2. Modify the Training Loop\n"
      ]
    },
    {
      "cell_type": "code",
      "execution_count": 45,
      "metadata": {
        "id": "U1gKM56IdBH-"
      },
      "outputs": [],
      "source": [
        "def train_model_with_sgd(X_train, y_train, hidden_size, epochs=50, learning_rate=0.01):\n",
        "    \"\"\"\n",
        "    Train the neural network model using Stochastic Gradient Descent (SGD).\n",
        "\n",
        "    Parameters:\n",
        "    - X_train: Training data.\n",
        "    - y_train: One-hot encoded labels.\n",
        "    - hidden_size: Number of neurons in the hidden layer.\n",
        "    - epochs: Number of training epochs.\n",
        "    - learning_rate: Learning rate for optimization.\n",
        "\n",
        "    Returns:\n",
        "    - loss_history: List of loss values over epochs.\n",
        "    \"\"\"\n",
        "    input_size = X_train.shape[1]\n",
        "    output_size = y_train.shape[1]\n",
        "    parameters = initialize_parameters(input_size, hidden_size, output_size)\n",
        "    loss_history = []\n",
        "\n",
        "    for epoch in range(epochs):\n",
        "        A2, cache = forward_propagation(X_train, parameters)\n",
        "        loss = compute_loss(y_train, A2)\n",
        "        loss_history.append(loss)\n",
        "        gradients = backward_propagation(X_train, y_train, parameters, cache)\n",
        "\n",
        "        parameters = update_parameters_with_sgd(parameters, gradients, learning_rate)\n",
        "\n",
        "        if epoch % 10 == 0:\n",
        "            print(f\"Epoch {epoch}, Loss (Learning Rate: {learning_rate}): {loss:.4f} \")\n",
        "\n",
        "    return loss_history\n"
      ]
    },
    {
      "cell_type": "markdown",
      "metadata": {
        "id": "CeQpjFQHdD4v"
      },
      "source": [
        "3. Experiment with Different Learning Rates\n"
      ]
    },
    {
      "cell_type": "code",
      "execution_count": 47,
      "metadata": {
        "id": "FvFIXxFRdGDv",
        "colab": {
          "base_uri": "https://localhost:8080/",
          "height": 853
        },
        "outputId": "660aa0db-ce71-421f-94d7-e9a35e6e914d"
      },
      "outputs": [
        {
          "output_type": "stream",
          "name": "stdout",
          "text": [
            "\n",
            "Training with Learning Rate: 0.001\n",
            "Epoch 0, Loss (Learning Rate: 0.001): 0.8524 \n",
            "Epoch 10, Loss (Learning Rate: 0.001): 0.9452 \n",
            "Epoch 20, Loss (Learning Rate: 0.001): 1.0327 \n",
            "Epoch 30, Loss (Learning Rate: 0.001): 1.1172 \n",
            "Epoch 40, Loss (Learning Rate: 0.001): 1.1994 \n",
            "\n",
            "Training with Learning Rate: 0.01\n",
            "Epoch 0, Loss (Learning Rate: 0.01): 0.6285 \n",
            "Epoch 10, Loss (Learning Rate: 0.01): 1.5433 \n",
            "Epoch 20, Loss (Learning Rate: 0.01): 1.8378 \n",
            "Epoch 30, Loss (Learning Rate: 0.01): 1.8705 \n",
            "Epoch 40, Loss (Learning Rate: 0.01): 1.8309 \n",
            "\n",
            "Training with Learning Rate: 0.1\n",
            "Epoch 0, Loss (Learning Rate: 0.1): 0.8421 \n",
            "Epoch 10, Loss (Learning Rate: 0.1): 1.5042 \n",
            "Epoch 20, Loss (Learning Rate: 0.1): 1.1576 \n",
            "Epoch 30, Loss (Learning Rate: 0.1): 1.0210 \n",
            "Epoch 40, Loss (Learning Rate: 0.1): 0.9451 \n"
          ]
        },
        {
          "output_type": "display_data",
          "data": {
            "text/plain": [
              "<Figure size 640x480 with 1 Axes>"
            ],
            "image/png": "[encoded data removed]"
          },
          "metadata": {}
        }
      ],
      "source": [
        "def compare_learning_rates(X_train, y_train, hidden_size, epochs=50, learning_rates=[0.001, 0.01, 0.1]):\n",
        "    \"\"\"\n",
        "    Compare the performance of SGD with different learning rates.\n",
        "\n",
        "    Parameters:\n",
        "    - X_train: Training data.\n",
        "    - y_train: One-hot encoded labels.\n",
        "    - hidden_size: Number of neurons in the hidden layer.\n",
        "    - epochs: Number of training epochs.\n",
        "    - learning_rates: List of learning rates to test.\n",
        "\n",
        "    Returns:\n",
        "    - loss_histories: Dictionary where keys are learning rates and values are corresponding loss histories.\n",
        "    \"\"\"\n",
        "    loss_histories = {}\n",
        "\n",
        "    for lr in learning_rates:\n",
        "        print(f\"\\nTraining with Learning Rate: {lr}\")\n",
        "        loss_histories[lr] = train_model_with_sgd(X_train, y_train, hidden_size, epochs, learning_rate=lr)\n",
        "\n",
        "    for lr, loss_history in loss_histories.items():\n",
        "        plt.plot(range(epochs), loss_history, label=f\"Learning Rate = {lr}\")\n",
        "\n",
        "    plt.xlabel(\"Epochs\")\n",
        "    plt.ylabel(\"Loss\")\n",
        "    plt.title(\"Loss comparison dor Different Learning Rates(SGD)\")\n",
        "    plt.legend()\n",
        "    plt.grid()\n",
        "    plt.show()\n",
        "\n",
        "x_train_flatten = x_train.reshape(x_train.shape[0], -1)\n",
        "\n",
        "compare_learning_rates(x_train_flatten,y_train,64)\n"
      ]
    },
    {
      "cell_type": "markdown",
      "metadata": {
        "id": "IXxuYU7llXP6"
      },
      "source": [
        "### SGD with Momentum vs. Classic SGD\n"
      ]
    },
    {
      "cell_type": "markdown",
      "metadata": {
        "id": "R8dcD51aepnC"
      },
      "source": [
        "TODO: Compare Stochastic Gradient Descent (SGD) with momentum and classic SGD, you can set up an experiment that trains the same model using both methods. This will help you observe differences in convergence speed and stability.\n",
        "\n",
        "Steps for Implementing the Comparison:\n",
        "\n",
        "1. Implement Classic SGD: Ensure you have a basic SGD implementation.(already implemented in the previous cells)\n",
        "\n",
        "2. Implement SGD with Momentum: Add a momentum version of the SGD optimizer.\n",
        "\n",
        "3. Modify the Training Loop: Allow for both optimizers in the training process.\n",
        "\n",
        "4. Train the Model: Run the training process using both optimizers.\n",
        "\n",
        "5. Visualize the Results: Plot the loss curves for each optimizer to compare their performance."
      ]
    },
    {
      "cell_type": "markdown",
      "metadata": {
        "id": "9-czqAXNe_nQ"
      },
      "source": [
        "2. Implement SGD with Momentum\n"
      ]
    },
    {
      "cell_type": "code",
      "execution_count": 51,
      "metadata": {
        "id": "8uzLkhWcfB6a"
      },
      "outputs": [],
      "source": [
        "def initialize_momentum(parameters):\n",
        "    \"\"\"\n",
        "    Initialize the momentum variables.\n",
        "\n",
        "    Parameters:\n",
        "    - parameters: Dictionary containing weights and biases.\n",
        "\n",
        "    Returns:\n",
        "    - v: Momentum variables, initialized to zeros.\n",
        "    \"\"\"\n",
        "    v = {}\n",
        "    for key in parameters.keys():\n",
        "        v[key] = np.zeros_like(parameters[key])\n",
        "    return v\n",
        "\n",
        "\n",
        "def update_parameters_with_momentum(parameters, gradients, v, learning_rate=0.01, beta=0.9):\n",
        "    \"\"\"\n",
        "    Update parameters using SGD with momentum.\n",
        "\n",
        "    Parameters:\n",
        "    - parameters: Dictionary of weights and biases.\n",
        "    - gradients: Calculated gradients for weights and biases.\n",
        "    - v: Momentum variables.\n",
        "    - learning_rate: Learning rate for updates.\n",
        "    - beta: Exponential decay rate for momentum.\n",
        "\n",
        "    Returns:\n",
        "    - parameters: Updated parameters (weights and biases).\n",
        "    - v: Updated momentum variables.\n",
        "    \"\"\"\n",
        "    updated_parameters = {}\n",
        "    for key in parameters.keys():\n",
        "        v[key] = beta * v[key] + (1 - beta) * gradients[f\"d{key}\"]\n",
        "        updated_parameters[key] = parameters[key] - learning_rate * v[key]\n",
        "\n",
        "    return updated_parameters, v\n",
        "\n"
      ]
    },
    {
      "cell_type": "markdown",
      "metadata": {
        "id": "k_DvOLijfIFK"
      },
      "source": [
        "3. Modify the Training Loop\n"
      ]
    },
    {
      "cell_type": "code",
      "execution_count": 49,
      "metadata": {
        "id": "uz3jxDtCfIuA"
      },
      "outputs": [],
      "source": [
        "def train_model(X_train, y_train, hidden_size, epochs=50, learning_rate=0.01, optimizer='sgd'):\n",
        "    \"\"\"\n",
        "    Train the neural network model using specified optimizer.\n",
        "\n",
        "    Parameters:\n",
        "    - X_train: Training data (number of examples x input size).\n",
        "    - y_train: One-hot encoded labels (number of examples x output size).\n",
        "    - hidden_size: Number of neurons in the hidden layer.\n",
        "    - epochs: Number of training epochs.\n",
        "    - learning_rate: Learning rate for optimization.\n",
        "    - optimizer: The optimizer to use ('sgd' or 'momentum').\n",
        "\n",
        "    Returns:\n",
        "    - loss_history: List of loss values over epochs.\n",
        "    \"\"\"\n",
        "    input_size = X_train.shape[1]\n",
        "    output_size = y_train.shape[1]\n",
        "    parameters = initialize_parameters(input_size, hidden_size, output_size)\n",
        "    loss_history = []\n",
        "\n",
        "    if optimizer == 'momentum':\n",
        "        v = initialize_momentum(parameters)\n",
        "\n",
        "    for epoch in range(epochs):\n",
        "        A2, cache = forward_propagation(X_train, parameters)\n",
        "\n",
        "        loss = compute_loss(y_train, A2)\n",
        "        loss_history.append(loss)\n",
        "\n",
        "        gradients = backward_propagation(X_train, y_train, parameters, cache)\n",
        "\n",
        "        if optimizer == 'sgd':\n",
        "            parameters = update_parameters_with_sgd(parameters, gradients, learning_rate)\n",
        "        elif optimizer == 'momentum':\n",
        "            parameters, v = update_parameters_with_momentum(parameters, gradients, v, learning_rate)\n",
        "\n",
        "        if epoch % 10 == 0:\n",
        "            print(f\"Epoch {epoch}, Loss ({optimizer}): {loss:.4f} \")\n",
        "\n",
        "    return loss_history\n"
      ]
    },
    {
      "cell_type": "markdown",
      "metadata": {
        "id": "wVbv6XeYfLbf"
      },
      "source": [
        "4. Train the Model with Both Optimizers\n"
      ]
    },
    {
      "cell_type": "code",
      "execution_count": 50,
      "metadata": {
        "colab": {
          "base_uri": "https://localhost:8080/",
          "height": 708
        },
        "id": "0zEcNXJGfOTf",
        "outputId": "6d4ddb1d-244a-4405-a5ac-e0f39e3ca00c"
      },
      "outputs": [
        {
          "output_type": "stream",
          "name": "stdout",
          "text": [
            "Training with Classic SGD...\n",
            "Epoch 0, Loss (sgd): 0.9534 \n",
            "Epoch 10, Loss (sgd): 1.6791 \n",
            "Epoch 20, Loss (sgd): 1.8832 \n",
            "Epoch 30, Loss (sgd): 1.8844 \n",
            "Epoch 40, Loss (sgd): 1.8280 \n",
            "\n",
            "Training with SGD with Momentum...\n",
            "Epoch 0, Loss (momentum): 0.7660 \n",
            "Epoch 10, Loss (momentum): 1.1755 \n",
            "Epoch 20, Loss (momentum): 1.9796 \n",
            "Epoch 30, Loss (momentum): 2.3651 \n",
            "Epoch 40, Loss (momentum): 2.2103 \n"
          ]
        },
        {
          "output_type": "display_data",
          "data": {
            "text/plain": [
              "<Figure size 640x480 with 1 Axes>"
            ],
            "image/png": "[encoded data removed]"
          },
          "metadata": {}
        }
      ],
      "source": [
        "def compare_sgd_and_momentum(X_train, y_train, hidden_size, epochs=50):\n",
        "    \"\"\"\n",
        "    Compare the performance of classic SGD and SGD with momentum.\n",
        "\n",
        "    Parameters:\n",
        "    - X_train: Training data (number of examples x input size).\n",
        "    - y_train: One-hot encoded labels (number of examples x output size).\n",
        "    - hidden_size: Number of neurons in the hidden layer.\n",
        "    - epochs: Number of training epochs.\n",
        "    \"\"\"\n",
        "    print(\"Training with Classic SGD...\")\n",
        "    sgd_loss_history = train_model(X_train, y_train, hidden_size, epochs, optimizer='sgd')\n",
        "\n",
        "    print(\"\\nTraining with SGD with Momentum...\")\n",
        "    momentum_loss_history = train_model(X_train, y_train, hidden_size, epochs, optimizer='momentum')\n",
        "\n",
        "    plt.plot(range(epochs), sgd_loss_history, label=\"Classic SGD Loss\")\n",
        "    plt.plot(range(epochs), momentum_loss_history, label=\"SGD with Momentum Loss\")\n",
        "    plt.xlabel(\"Epochs\")\n",
        "    plt.ylabel(\"Loss\")\n",
        "    plt.title(\"Loss comparison: Classic SGD vs. SGD with Momentum\")\n",
        "    plt.legend()\n",
        "    plt.grid()\n",
        "    plt.show()\n",
        "\n",
        "x_train_flatten = x_train.reshape(x_train.shape[0], -1)\n",
        "\n",
        "compare_sgd_and_momentum(x_train_flatten,y_train,64)\n"
      ]
    },
    {
      "cell_type": "markdown",
      "metadata": {
        "id": "OhaXIjuClXP6"
      },
      "source": [
        "## Mini-Batch Gradient Descent"
      ]
    },
    {
      "cell_type": "markdown",
      "metadata": {
        "id": "wpBVHm6elXP6"
      },
      "source": [
        "### Mini-Batch Size Optimization"
      ]
    },
    {
      "cell_type": "markdown",
      "metadata": {
        "id": "rUDwKXOAgc2h"
      },
      "source": [
        "TODO: Investigate how different mini-batch sizes affect model performance, you can set up an experiment where you train the same model using various mini-batch sizes.\n",
        "\n",
        "Steps for Implementing the Mini-Batch Size Experiment\n",
        "\n",
        "1. Modify the Training Loop: Update the training loop to use mini-batches.\n",
        "2. Train the Model: Run the training process with a set of predefined mini-batch sizes.\n",
        "3. Evaluate Performance: Track training time and accuracy for each mini-batch size.\n",
        "4. Print the training losses and accuracies for comparison."
      ]
    },
    {
      "cell_type": "markdown",
      "metadata": {
        "id": "sz2dJu_PgvJH"
      },
      "source": [
        "1. Modify the Training Loop for Mini-Batches\n"
      ]
    },
    {
      "cell_type": "code",
      "execution_count": 52,
      "metadata": {
        "id": "2eBWqUKwgqqN"
      },
      "outputs": [],
      "source": [
        "def train_model_with_mini_batches(X_train, y_train, hidden_size, epochs=50, learning_rate=0.01, batch_size=32):\n",
        "    \"\"\"\n",
        "    Train the neural network model using mini-batches.\n",
        "\n",
        "    Parameters:\n",
        "    - X_train: Training data (number of examples x input size).\n",
        "    - y_train: One-hot encoded labels (number of examples x output size).\n",
        "    - hidden_size: Number of neurons in the hidden layer.\n",
        "    - epochs: Number of training epochs.\n",
        "    - learning_rate: Learning rate for optimization.\n",
        "    - batch_size: Size of mini-batches.\n",
        "\n",
        "    Returns:\n",
        "    - loss_history: List of loss values over epochs.\n",
        "    - accuracy_history: List of accuracy values over epochs.\n",
        "    \"\"\"\n",
        "    input_size = X_train.shape[1]\n",
        "    output_size = y_train.shape[1]\n",
        "\n",
        "    parameters = initialize_parameters(input_size, hidden_size, output_size)\n",
        "    loss_history = []\n",
        "    accuracy_history = []\n",
        "\n",
        "    num_batches = X_train.shape[0] // batch_size\n",
        "\n",
        "    for epoch in range(epochs):\n",
        "        epoch_loss = 0\n",
        "        epoch_correct = 0\n",
        "\n",
        "        permutation = np.random.permutation(X_train.shape[0])\n",
        "        X_train_shuffled = X_train[permutation]\n",
        "        y_train_shuffled = y_train[permutation]\n",
        "\n",
        "        for i in range(num_batches):\n",
        "            start = i * batch_size\n",
        "            end = start + batch_size\n",
        "            X_batch = X_train_shuffled[start:end]\n",
        "            y_batch = y_train_shuffled[start:end]\n",
        "\n",
        "            A2, cache = forward_propagation(X_batch, parameters)\n",
        "\n",
        "            loss = compute_loss(y_batch, A2)\n",
        "            epoch_loss += loss\n",
        "\n",
        "            gradients = backward_propagation(X_batch, y_batch, parameters, cache)\n",
        "\n",
        "            parameters = update_parameters_with_sgd(parameters, gradients, learning_rate)\n",
        "\n",
        "            predictions = np.argmax(A2, axis=1)\n",
        "            labels = np.argmax(y_batch, axis=1)\n",
        "            epoch_correct += np.sum(predictions == labels)\n",
        "\n",
        "        epoch_loss /= num_batches\n",
        "        epoch_accuracy = epoch_correct / X_train.shape[0]\n",
        "        loss_history.append(epoch_loss)\n",
        "        accuracy_history.append(epoch_accuracy)\n",
        "\n",
        "        if epoch % 10 == 0:\n",
        "            print(f\"Epoch {epoch}, Loss: {epoch_loss:.4f}, Accuracy: {epoch_accuracy:.4f}\")\n",
        "\n",
        "    print(f\"Final Loss for batch size {batch_size}: {loss_history[-1]:.4f}\")\n",
        "    print(f\"Final Accuracy for batch size {batch_size}: {accuracy_history[-1]:.4f}\\n\")\n",
        "\n",
        "    return loss_history, accuracy_history\n"
      ]
    },
    {
      "cell_type": "markdown",
      "metadata": {
        "id": "ja1aWHjwgwMl"
      },
      "source": [
        "2. Train the Model with Different Mini-Batch Sizes\n"
      ]
    },
    {
      "cell_type": "code",
      "execution_count": 53,
      "metadata": {
        "colab": {
          "base_uri": "https://localhost:8080/"
        },
        "id": "R7vvj-y_is_k",
        "outputId": "a9fcddee-3e2c-4aeb-aaed-8f40f7819813"
      },
      "outputs": [
        {
          "output_type": "stream",
          "name": "stdout",
          "text": [
            "\n",
            "Training with mini-batch size: 16\n",
            "Epoch 0, Loss: 0.7253, Accuracy: 0.7543\n",
            "Epoch 10, Loss: 0.3586, Accuracy: 0.8787\n",
            "Epoch 20, Loss: 0.3119, Accuracy: 0.8939\n",
            "Epoch 30, Loss: 0.2843, Accuracy: 0.9030\n",
            "Epoch 40, Loss: 0.2641, Accuracy: 0.9102\n",
            "Final Loss for batch size 16: 0.2499\n",
            "Final Accuracy for batch size 16: 0.9160\n",
            "\n",
            "\n",
            "Training with mini-batch size: 32\n",
            "Epoch 0, Loss: 0.8637, Accuracy: 0.7030\n",
            "Epoch 10, Loss: 0.4090, Accuracy: 0.8658\n",
            "Epoch 20, Loss: 0.3570, Accuracy: 0.8823\n",
            "Epoch 30, Loss: 0.3278, Accuracy: 0.8919\n",
            "Epoch 40, Loss: 0.3058, Accuracy: 0.8988\n",
            "Final Loss for batch size 32: 0.2906\n",
            "Final Accuracy for batch size 32: 0.9035\n",
            "\n",
            "\n",
            "Training with mini-batch size: 64\n",
            "Epoch 0, Loss: 0.9929, Accuracy: 0.6697\n",
            "Epoch 10, Loss: 0.4574, Accuracy: 0.8493\n",
            "Epoch 20, Loss: 0.4033, Accuracy: 0.8668\n",
            "Epoch 30, Loss: 0.3738, Accuracy: 0.8756\n",
            "Epoch 40, Loss: 0.3531, Accuracy: 0.8827\n",
            "Final Loss for batch size 64: 0.3383\n",
            "Final Accuracy for batch size 64: 0.8865\n",
            "\n"
          ]
        }
      ],
      "source": [
        "def compare_mini_batch_sizes(X_train, y_train, hidden_size, epochs=50, batch_sizes=[16, 32, 64]):\n",
        "    \"\"\"\n",
        "    Compare the performance of different mini-batch sizes and print results.\n",
        "\n",
        "    Parameters:\n",
        "    - X_train: Training data (number of examples x input size).\n",
        "    - y_train: One-hot encoded labels (number of examples x output size).\n",
        "    - hidden_size: Number of neurons in the hidden layer.\n",
        "    - epochs: Number of training epochs.\n",
        "    - batch_sizes: List of mini-batch sizes to test.\n",
        "\n",
        "    Returns:\n",
        "    - results: Dictionary containing loss and accuracy histories for each batch size.\n",
        "    \"\"\"\n",
        "    results = {}\n",
        "\n",
        "    for batch_size in batch_sizes:\n",
        "        print(f\"\\nTraining with mini-batch size: {batch_size}\")\n",
        "        loss_history, accuracy_history = train_model_with_mini_batches(\n",
        "            X_train, y_train, hidden_size, epochs, batch_size=batch_size\n",
        "        )\n",
        "        results[batch_size] = {\n",
        "            \"loss_history\": loss_history,\n",
        "            \"accuracy_history\": accuracy_history,\n",
        "        }\n",
        "\n",
        "x_train_flatten = x_train.reshape(x_train.shape[0], -1)\n",
        "\n",
        "compare_mini_batch_sizes(x_train_flatten,y_train,64)"
      ]
    },
    {
      "cell_type": "markdown",
      "metadata": {
        "id": "wb3WXFgMlXP7"
      },
      "source": [
        "### Mini-Batch vs. Full-Batch Gradient Descent\n"
      ]
    },
    {
      "cell_type": "markdown",
      "metadata": {
        "id": "vVvy9f6PlPCS"
      },
      "source": [
        "TODO: Compare the efficiency and performance of mini-batch gradient descent against full-batch gradient descent.\n",
        "\n",
        "1. Implement Full-Batch Gradient Descent: Ensure you have a full-batch gradient descent implementation.\n",
        "\n",
        "2. Modify the Training Loop: Allow the training loop to handle both mini-batch and full-batch scenarios.\n",
        "\n",
        "3. Train the Model: Run the training process using both methods and track their performance.\n",
        "\n",
        "4. Print Results: Display the final loss and accuracy for both methods along with training times."
      ]
    },
    {
      "cell_type": "code",
      "execution_count": 62,
      "metadata": {
        "id": "tlTYBB2tlgBG"
      },
      "outputs": [],
      "source": [
        "def train_model_full_batch(X_train, y_train, hidden_size, epochs=50, learning_rate=0.01):\n",
        "    input_size = X_train.shape[1]\n",
        "    output_size = y_train.shape[1]\n",
        "    parameters = initialize_parameters(input_size, hidden_size, output_size)\n",
        "    loss_history = []\n",
        "    accuracy_history = []\n",
        "\n",
        "    for epoch in range(epochs):\n",
        "        A2, cache = forward_propagation(X_train, parameters)\n",
        "\n",
        "        loss = compute_loss(y_train, A2)\n",
        "        loss_history.append(loss)\n",
        "\n",
        "        predictions = np.argmax(A2, axis=1)\n",
        "        true_labels = np.argmax(y_train, axis=1)\n",
        "        accuracy = np.mean(predictions == true_labels)\n",
        "        accuracy_history.append(accuracy)\n",
        "\n",
        "        gradients = backward_propagation(X_train, y_train, parameters, cache)\n",
        "\n",
        "        # Update parameters\n",
        "        parameters = update_parameters(parameters, gradients, learning_rate)\n",
        "\n",
        "        if epoch % 10 == 0:\n",
        "            print(f\"Epoch {epoch}, Loss (Full-Batch): {loss:.4f}, Accuracy: {accuracy:.4f}\")\n",
        "\n",
        "    return loss_history, accuracy_history\n"
      ]
    },
    {
      "cell_type": "code",
      "execution_count": 71,
      "metadata": {
        "colab": {
          "base_uri": "https://localhost:8080/"
        },
        "id": "YIb4-9eGllGi",
        "outputId": "1a9e91b3-079b-4f8a-9d5e-8ac52e68fd92"
      },
      "outputs": [
        {
          "output_type": "stream",
          "name": "stdout",
          "text": [
            "Training with Mini-Batch Gradient Descent...\n",
            "Epoch 0, Loss: 0.8509, Accuracy: 0.7073\n",
            "Epoch 10, Loss: 0.4060, Accuracy: 0.8643\n",
            "Epoch 20, Loss: 0.3564, Accuracy: 0.8815\n",
            "Epoch 30, Loss: 0.3276, Accuracy: 0.8902\n",
            "Epoch 40, Loss: 0.3062, Accuracy: 0.8980\n",
            "Final Loss for batch size 32: 0.2906\n",
            "Final Accuracy for batch size 32: 0.9035\n",
            "\n",
            "Training with Full-Batch Gradient Descent...\n",
            "Epoch 0, Loss (Full-Batch): 0.7985, Accuracy: 0.0572\n",
            "Epoch 10, Loss (Full-Batch): 1.6484, Accuracy: 0.1324\n",
            "Epoch 20, Loss (Full-Batch): 1.8980, Accuracy: 0.2004\n",
            "Epoch 30, Loss (Full-Batch): 1.9084, Accuracy: 0.2959\n",
            "Epoch 40, Loss (Full-Batch): 1.8525, Accuracy: 0.3734\n",
            "\n",
            "Mini-Batch Final Loss: 0.2906, Final Accuracy: 0.9035, Time: 113.63 seconds\n",
            "Full-Batch Final Loss: 1.7890, Final Accuracy: 0.4266, Time: 50.01 seconds\n"
          ]
        }
      ],
      "source": [
        "import time\n",
        "\n",
        "def compare_mini_batch_and_full_batch(X_train, y_train, hidden_size, epochs=50, batch_size=32):\n",
        "    \"\"\"\n",
        "    Compare the performance of mini-batch gradient descent against full-batch gradient descent.\n",
        "\n",
        "    Parameters:\n",
        "    - X_train: Training data (number of examples x input size).\n",
        "    - y_train: One-hot encoded labels (number of examples x output size).\n",
        "    - hidden_size: Number of neurons in the hidden layer.\n",
        "    - epochs: Number of training epochs.\n",
        "    - batch_size: Size of mini-batches for mini-batch gradient descent.\n",
        "    \"\"\"\n",
        "    print(\"Training with Mini-Batch Gradient Descent...\")\n",
        "    start_time = time.time()\n",
        "    mini_batch_loss, mini_batch_accuracy = train_model_with_mini_batches(X_train, y_train, hidden_size, epochs, batch_size=batch_size)\n",
        "    mini_batch_time = time.time() - start_time\n",
        "\n",
        "    print(\"Training with Full-Batch Gradient Descent...\")\n",
        "    start_time = time.time()\n",
        "    full_batch_loss, full_batch_accuracy = train_model_full_batch(X_train, y_train, hidden_size, epochs)\n",
        "    full_batch_time = time.time() - start_time\n",
        "\n",
        "    print(f\"\\nMini-Batch Final Loss: {mini_batch_loss[-1]:.4f}, Final Accuracy: {mini_batch_accuracy[-1]:.4f}, Time: {mini_batch_time:.2f} seconds\")\n",
        "    print(f\"Full-Batch Final Loss: {full_batch_loss[-1]:.4f}, Final Accuracy: {full_batch_accuracy[-1]:.4f}, Time: {full_batch_time:.2f} seconds\")\n",
        "compare_mini_batch_and_full_batch(x_train_flatten, y_train, hidden_size=64, epochs=50, batch_size=32)\n"
      ]
    }
  ],
  "metadata": {
    "colab": {
      "provenance": []
    },
    "kernelspec": {
      "display_name": "Python 3",
      "name": "python3"
    },
    "language_info": {
      "codemirror_mode": {
        "name": "ipython",
        "version": 3
      },
      "file_extension": ".py",
      "mimetype": "text/x-python",
      "name": "python",
      "nbconvert_exporter": "python",
      "pygments_lexer": "ipython3",
      "version": "3.10.5"
    }
  },
  "nbformat": 4,
  "nbformat_minor": 0
}